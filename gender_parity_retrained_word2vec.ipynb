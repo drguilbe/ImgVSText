{
 "cells": [
  {
   "cell_type": "markdown",
   "metadata": {},
   "source": [
    "## Vectors"
   ]
  },
  {
   "cell_type": "code",
   "execution_count": 1,
   "metadata": {},
   "outputs": [],
   "source": [
    "import numpy as np #For arrays\n",
    "import pickle\n",
    "import pandas as pd #Gives us DataFrames\n",
    "import scipy\n",
    "import gensim\n",
    "import sklearn.metrics.pairwise #For cosine similarity\n",
    "import sklearn.manifold #For T-SNE\n",
    "import sklearn.decomposition #For PCA\n",
    "import csv\n",
    "import os #For looking through files\n",
    "import os.path #For managing file paths\n",
    "from gensim import models\n",
    "from gensim.models import Word2Vec"
   ]
  },
  {
   "cell_type": "code",
   "execution_count": 5,
   "metadata": {},
   "outputs": [],
   "source": [
    "model = Word2Vec.load(\"word2vec-retrained.model\")"
   ]
  },
  {
   "cell_type": "code",
   "execution_count": 6,
   "metadata": {
    "scrolled": true
   },
   "outputs": [
    {
     "name": "stdout",
     "output_type": "stream",
     "text": [
      "[('mechanic', 0.6486852765083313), ('engineers', 0.6475141644477844), ('engineering', 0.6428036093711853), ('electrician', 0.6359635591506958), ('programmer', 0.5945500135421753), ('scientist', 0.5807376503944397), ('kups', 0.5781391859054565), ('mechanical', 0.5700127482414246), ('welder', 0.568080723285675), ('happold', 0.5563541650772095)]\n",
      "[('paintings', 0.8333608508110046), ('artwork', 0.7835107445716858), ('watercolour', 0.7832376956939697), ('painter', 0.7391495108604431), ('portrait', 0.7320064902305603), ('painted', 0.7230610847473145), ('sculpture', 0.7214315533638), ('picasso', 0.7180144786834717), ('watercolours', 0.7133046388626099), ('artworks', 0.7114920020103455)]\n"
     ]
    }
   ],
   "source": [
    "print(model.wv.most_similar(\"engineer\"))\n",
    "print(model.wv.most_similar(\"painting\"))"
   ]
  },
  {
   "cell_type": "code",
   "execution_count": 7,
   "metadata": {},
   "outputs": [],
   "source": [
    "def normalize(vector):\n",
    "    normalized_vector = vector / np.linalg.norm(vector)\n",
    "    return normalized_vector\n",
    "\n",
    "def dimension(model, positives, negatives):\n",
    "    diff = sum([normalize(model.wv[x]) for x in positives]) - sum([normalize(model.wv[y]) for y in negatives])\n",
    "    return diff"
   ]
  },
  {
   "cell_type": "code",
   "execution_count": 8,
   "metadata": {},
   "outputs": [],
   "source": [
    "Gender = dimension(model, ['man','him','he', 'male', 'boy'], ['woman', 'her', 'she', 'female', 'girl'])"
   ]
  },
  {
   "cell_type": "code",
   "execution_count": 9,
   "metadata": {},
   "outputs": [],
   "source": [
    "category_image_parity = {}"
   ]
  },
  {
   "cell_type": "code",
   "execution_count": 10,
   "metadata": {},
   "outputs": [],
   "source": [
    "category_gender_dimension = {}"
   ]
  },
  {
   "cell_type": "code",
   "execution_count": 11,
   "metadata": {},
   "outputs": [],
   "source": [
    "missed = []"
   ]
  },
  {
   "cell_type": "code",
   "execution_count": 12,
   "metadata": {},
   "outputs": [],
   "source": [
    "with open('category_list.csv', newline='') as csvfile:\n",
    "    spamreader = csv.reader(csvfile)\n",
    "    for row in spamreader:\n",
    "        category, parity = row\n",
    "        try:\n",
    "            if len(category.split(' ')) == 2:\n",
    "                word_1, word_2 = category.split(' ')\n",
    "                vector = (model.wv[word_1] + model.wv[word_2]) / 2\n",
    "                category_gender_dimension[category] = sklearn.metrics.pairwise.cosine_similarity(vector.reshape(1,-1), \n",
    "                                                                                                 Gender.reshape(1,-1))[0][0]       \n",
    "            else:\n",
    "                category_gender_dimension[category] = sklearn.metrics.pairwise.cosine_similarity(model.wv[category].reshape(1,-1), \n",
    "                                                                                                 Gender.reshape(1,-1))[0][0]\n",
    "            category_image_parity[category] = float(parity)\n",
    "\n",
    "        except KeyError:\n",
    "            missed.append(category)\n",
    "            continue\n",
    "            "
   ]
  },
  {
   "cell_type": "code",
   "execution_count": 13,
   "metadata": {},
   "outputs": [],
   "source": [
    "cd_out=pd.DataFrame.from_dict(category_gender_dimension.items())"
   ]
  },
  {
   "cell_type": "code",
   "execution_count": 18,
   "metadata": {},
   "outputs": [],
   "source": [
    "cd_out.columns = ['Social.Category', 'retrained-word2vec-300']"
   ]
  },
  {
   "cell_type": "code",
   "execution_count": 19,
   "metadata": {},
   "outputs": [
    {
     "data": {
      "text/html": [
       "<div>\n",
       "<style scoped>\n",
       "    .dataframe tbody tr th:only-of-type {\n",
       "        vertical-align: middle;\n",
       "    }\n",
       "\n",
       "    .dataframe tbody tr th {\n",
       "        vertical-align: top;\n",
       "    }\n",
       "\n",
       "    .dataframe thead th {\n",
       "        text-align: right;\n",
       "    }\n",
       "</style>\n",
       "<table border=\"1\" class=\"dataframe\">\n",
       "  <thead>\n",
       "    <tr style=\"text-align: right;\">\n",
       "      <th></th>\n",
       "      <th>Social.Category</th>\n",
       "      <th>retrained-word2vec-300</th>\n",
       "    </tr>\n",
       "  </thead>\n",
       "  <tbody>\n",
       "    <tr>\n",
       "      <th>0</th>\n",
       "      <td>abandoned infant</td>\n",
       "      <td>-0.039072</td>\n",
       "    </tr>\n",
       "    <tr>\n",
       "      <th>1</th>\n",
       "      <td>abandoned person</td>\n",
       "      <td>0.020258</td>\n",
       "    </tr>\n",
       "    <tr>\n",
       "      <th>2</th>\n",
       "      <td>able seaman</td>\n",
       "      <td>0.073436</td>\n",
       "    </tr>\n",
       "    <tr>\n",
       "      <th>3</th>\n",
       "      <td>abolitionist</td>\n",
       "      <td>-0.099167</td>\n",
       "    </tr>\n",
       "    <tr>\n",
       "      <th>4</th>\n",
       "      <td>abortionist</td>\n",
       "      <td>-0.182039</td>\n",
       "    </tr>\n",
       "    <tr>\n",
       "      <th>...</th>\n",
       "      <td>...</td>\n",
       "      <td>...</td>\n",
       "    </tr>\n",
       "    <tr>\n",
       "      <th>3048</th>\n",
       "      <td>young woman</td>\n",
       "      <td>-0.160440</td>\n",
       "    </tr>\n",
       "    <tr>\n",
       "      <th>3049</th>\n",
       "      <td>youngster</td>\n",
       "      <td>0.075502</td>\n",
       "    </tr>\n",
       "    <tr>\n",
       "      <th>3050</th>\n",
       "      <td>zen buddhist</td>\n",
       "      <td>-0.009643</td>\n",
       "    </tr>\n",
       "    <tr>\n",
       "      <th>3051</th>\n",
       "      <td>zionist</td>\n",
       "      <td>0.020149</td>\n",
       "    </tr>\n",
       "    <tr>\n",
       "      <th>3052</th>\n",
       "      <td>zoo keeper</td>\n",
       "      <td>0.007478</td>\n",
       "    </tr>\n",
       "  </tbody>\n",
       "</table>\n",
       "<p>3053 rows × 2 columns</p>\n",
       "</div>"
      ],
      "text/plain": [
       "       Social.Category  retrained-word2vec-300\n",
       "0     abandoned infant               -0.039072\n",
       "1     abandoned person                0.020258\n",
       "2          able seaman                0.073436\n",
       "3         abolitionist               -0.099167\n",
       "4          abortionist               -0.182039\n",
       "...                ...                     ...\n",
       "3048       young woman               -0.160440\n",
       "3049         youngster                0.075502\n",
       "3050      zen buddhist               -0.009643\n",
       "3051           zionist                0.020149\n",
       "3052        zoo keeper                0.007478\n",
       "\n",
       "[3053 rows x 2 columns]"
      ]
     },
     "execution_count": 19,
     "metadata": {},
     "output_type": "execute_result"
    }
   ],
   "source": [
    "cd_out"
   ]
  },
  {
   "cell_type": "code",
   "execution_count": 20,
   "metadata": {},
   "outputs": [],
   "source": [
    "savepath=\"\"\n",
    "cd_out.to_csv(savepath + 'retrained_word2vec_cat_data.csv', index=False)"
   ]
  }
 ],
 "metadata": {
  "kernelspec": {
   "display_name": "Python 3 (ipykernel)",
   "language": "python",
   "name": "python3"
  },
  "language_info": {
   "codemirror_mode": {
    "name": "ipython",
    "version": 3
   },
   "file_extension": ".py",
   "mimetype": "text/x-python",
   "name": "python",
   "nbconvert_exporter": "python",
   "pygments_lexer": "ipython3",
   "version": "3.8.17"
  }
 },
 "nbformat": 4,
 "nbformat_minor": 4
}
